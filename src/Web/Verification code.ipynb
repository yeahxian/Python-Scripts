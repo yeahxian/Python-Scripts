{
 "cells": [
  {
   "cell_type": "code",
   "execution_count": 256,
   "metadata": {
    "collapsed": true
   },
   "outputs": [],
   "source": [
    "from pylab import *\n",
    "from PIL import Image\n",
    "import os\n",
    "from sklearn.svm import SVC\n",
    "ion()\n",
    "%gui inline\n",
    "image_name = 'ACTIONVALIDATERANDOMPICTURE.APPPROCESS.2.jpg'"
   ]
  },
  {
   "cell_type": "code",
   "execution_count": null,
   "metadata": {
    "collapsed": true
   },
   "outputs": [],
   "source": [
    "# 获取图片\n",
    "for i in range(100):\n",
    "    os.system('https://aao.qianhao.aiursoft.com/ACTIONVALIDATERANDOMPICTURE.APPPROCESS')"
   ]
  },
  {
   "cell_type": "code",
   "execution_count": 109,
   "metadata": {},
   "outputs": [
    {
     "name": "stdout",
     "output_type": "stream",
     "text": [
      "(20, 60, 3)\n"
     ]
    },
    {
     "data": {
      "image/png": "[encoded data removed]",
      "text/plain": [
       "<matplotlib.figure.Figure at 0x7fa0c42767b8>"
      ]
     },
     "metadata": {},
     "output_type": "display_data"
    }
   ],
   "source": [
    "# 读取图片\n",
    "img = imread(image_name)\n",
    "subplot(151);imshow(img);axis('off')\n",
    "subplot(152);imshow(img[:, :15, :]);axis('off')\n",
    "subplot(153);imshow(img[:, 15:30, :]);axis('off')\n",
    "subplot(154);imshow(img[:, 30:45, :]);axis('off')\n",
    "subplot(155);imshow(img[:, 45:, :]);axis('off')\n",
    "print(img.shape)"
   ]
  },
  {
   "cell_type": "code",
   "execution_count": 113,
   "metadata": {},
   "outputs": [
    {
     "name": "stdout",
     "output_type": "stream",
     "text": [
      "<class 'numpy.ndarray'>\n",
      "(20, 60)\n"
     ]
    },
    {
     "data": {
      "image/png": "[encoded data removed]",
      "text/plain": [
       "<matplotlib.figure.Figure at 0x7fa0c0753128>"
      ]
     },
     "metadata": {},
     "output_type": "display_data"
    }
   ],
   "source": [
    "# 二值化并分割\n",
    "img = Image.open(image_name)\n",
    "gray = img.convert('L')\n",
    "img.crop((0,0,15,15))\n",
    "img.crop((0,0,15,20))\n",
    "g = array(gray.getdata())\n",
    "binary = array([1 if i > 128 else 0 for i in g])\n",
    "binary=binary.reshape(gray.size[::-1])\n",
    "\n",
    "img=binary\n",
    "print(type(img))\n",
    "subplot(151);imshow(img, cmap='gray');axis('off')\n",
    "subplot(152);imshow(img[:, :15, ...], cmap='gray');axis('off')\n",
    "subplot(153);imshow(img[:, 15:30, ...], cmap='gray');axis('off')\n",
    "subplot(154);imshow(img[:, 30:45, ...], cmap='gray');axis('off')\n",
    "subplot(155);imshow(img[:, 45:, ...], cmap='gray');axis('off')\n",
    "print(img.shape)"
   ]
  },
  {
   "cell_type": "code",
   "execution_count": 115,
   "metadata": {
    "collapsed": true
   },
   "outputs": [],
   "source": [
    "def preprocess(img):\n",
    "    # 二值化并分割\n",
    "    # img -> PIL\n",
    "    gray = img.convert('L')\n",
    "    g = array(gray.getdata())\n",
    "    binary = array([1 if i > 128 else 0 for i in g])\n",
    "    img=binary.reshape(gray.size[::-1])\n",
    "    \n",
    "    return img[:, :15, ...], img[:, 15:30, ...], img[:, 30:45, ...], img[:, 45:, ...]\n"
   ]
  },
  {
   "cell_type": "code",
   "execution_count": 119,
   "metadata": {},
   "outputs": [],
   "source": [
    "# 读取图片，放到列表内\n",
    "nums, chars = list(), list()\n",
    "for image_name in os.listdir():\n",
    "    if image_name.split('.')[-1] == 'jpg':\n",
    "        images = preprocess(Image.open(image_name))\n",
    "        nums.extend([images[0],images[2]])\n",
    "        chars.append(images[1])"
   ]
  },
  {
   "cell_type": "code",
   "execution_count": 266,
   "metadata": {},
   "outputs": [
    {
     "data": {
      "image/png": "[encoded data removed]",
      "text/plain": [
       "<matplotlib.figure.Figure at 0x7fa0c08de588>"
      ]
     },
     "metadata": {},
     "output_type": "display_data"
    }
   ],
   "source": [
    "# 初步分类并保存\n",
    "fig = figure()\n",
    "if not os.path.exists('nums'):\n",
    "    os.mkdir('nums')\n",
    "if not os.path.exists('chars'):\n",
    "    os.mkdir('chars')\n",
    "for num, i in enumerate(nums):\n",
    "    imshow(i)\n",
    "    fig.savefig(filename='nums/{}.jpg'.format(num))\n",
    "for num, i in enumerate(chars):\n",
    "    imshow(i)\n",
    "    fig.savefig(filename='chars/{}.jpg'.format(num))\n"
   ]
  }
 ],
 "metadata": {
  "celltoolbar": "Raw Cell Format",
  "kernelspec": {
   "display_name": "Python [conda root]",
   "language": "python",
   "name": "conda-root-py"
  },
  "language_info": {
   "codemirror_mode": {
    "name": "ipython",
    "version": 3
   },
   "file_extension": ".py",
   "mimetype": "text/x-python",
   "name": "python",
   "nbconvert_exporter": "python",
   "pygments_lexer": "ipython3",
   "version": "3.5.3"
  }
 },
 "nbformat": 4,
 "nbformat_minor": 2
}
